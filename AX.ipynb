{
  "cells": [
    {
      "cell_type": "markdown",
      "source": [
        "# AX or Diagnostic Task"
      ],
      "metadata": {
        "id": "_q65rw0CsMy1"
      }
    },
    {
      "cell_type": "markdown",
      "source": [
        "## Preparing the Environment"
      ],
      "metadata": {
        "id": "kLvolWT4sbYC"
      }
    },
    {
      "cell_type": "code",
      "execution_count": null,
      "metadata": {
        "id": "B30So1R8JuwH"
      },
      "outputs": [],
      "source": [
        "#Google Colab - Drive Mounting\n",
        "from google.colab import drive\n",
        "drive.mount('/content/gdrive', force_remount=True)"
      ]
    },
    {
      "cell_type": "code",
      "execution_count": null,
      "metadata": {
        "id": "I6o-sMCWJpb_"
      },
      "outputs": [],
      "source": [
        "!pip install -q keras-nlp"
      ]
    },
    {
      "cell_type": "code",
      "execution_count": null,
      "metadata": {
        "id": "vYMo1t9AJutQ"
      },
      "outputs": [],
      "source": [
        "#Import the libraries\n",
        "import tensorflow as tf\n",
        "import keras_nlp\n",
        "from tensorflow import keras\n",
        "from tensorflow.keras import layers\n",
        "from tensorflow.keras.layers import TextVectorization\n",
        "import numpy as np\n",
        "import os\n",
        "import re\n",
        "import string\n",
        "import random\n",
        "import pandas as pd"
      ]
    },
    {
      "cell_type": "markdown",
      "source": [
        "## Load Test data and MNLI model"
      ],
      "metadata": {
        "id": "IkMn1dhUtldA"
      }
    },
    {
      "cell_type": "code",
      "execution_count": null,
      "metadata": {
        "colab": {
          "base_uri": "https://localhost:8080/"
        },
        "id": "mEh2SO6gJu5v",
        "outputId": "3ccd7dff-ab57-4149-a2ed-5a341b51634b"
      },
      "outputs": [
        {
          "name": "stderr",
          "output_type": "stream",
          "text": [
            "WARNING:tensorflow:Mixed precision compatibility check (mixed_float16): WARNING\n",
            "The dtype policy mixed_float16 may run slowly because this machine does not have a GPU. Only Nvidia GPUs with compute capability of at least 7.0 run quickly with mixed_float16.\n",
            "If you will use compatible GPU(s) not attached to this host, e.g. by running a multi-worker model, you can ignore this warning. This message will only be logged once\n"
          ]
        }
      ],
      "source": [
        "# Restore MNLI model\n",
        "# Model can predict on raw text\n",
        "restored_model = keras.models.load_model(\"path_to_stored_MNLI_model\", compile=False)"
      ]
    },
    {
      "cell_type": "code",
      "execution_count": null,
      "metadata": {
        "id": "TCQjQbsoJuzK"
      },
      "outputs": [],
      "source": [
        "# Import Diagnostic Data\n",
        "current_path = \"path_to_glue\"\n",
        "test_path = os.path.join(current_path, 'AX.tsv')\n",
        "\n",
        "\n",
        "def generate_test(path):\n",
        "    '''\n",
        "    Given a file path, read the file and preprocess the data\n",
        "    Return a tensor of the test sentences\n",
        "    '''\n",
        "    tokens, classes = [], []\n",
        "    df = pd.read_csv(path, sep='\\t', skiprows = 1,error_bad_lines=False, encoding = \"ISO-8859-1\")\n",
        "    for _, row in df.iterrows():\n",
        "        text_a, text_b = row['sentence1'], row['sentence2']\n",
        "        if not isinstance(text_a, str) or not isinstance(text_b, str):\n",
        "            continue\n",
        "        text = (text_a)+ '[SEP]' + (text_b) + '[SEP]'\n",
        "        tokens.append(text)\n",
        "    tokens = np.array(tokens)\n",
        "    return tf.constant(tokens)\n",
        "\n",
        "#Load test data\n",
        "ax_test = generate_test(test_path)"
      ]
    },
    {
      "cell_type": "markdown",
      "source": [
        "## Generate and format predictions"
      ],
      "metadata": {
        "id": "f8oQ21Mdtpmz"
      }
    },
    {
      "cell_type": "code",
      "execution_count": null,
      "metadata": {
        "colab": {
          "background_save": true
        },
        "id": "59QV72HkMyrV"
      },
      "outputs": [],
      "source": [
        "# Generate predictions\n",
        "pred = restored_model.predict_generator(ax_test, verbose=True).argmax(axis=-1)"
      ]
    },
    {
      "cell_type": "code",
      "execution_count": null,
      "metadata": {
        "colab": {
          "background_save": true
        },
        "id": "TyQg0CqjJu2N"
      },
      "outputs": [],
      "source": [
        "# Class labels\n",
        "REV_CLASSES = {\n",
        "    0: 'neutral',\n",
        "    1: 'entailment',\n",
        "    2: 'contradiction',\n",
        "}\n",
        "\n",
        "# Adapt prediction to labels\n",
        "results = []\n",
        "for p in pred:\n",
        "  results.append(REV_CLASSES[p])"
      ]
    },
    {
      "cell_type": "code",
      "execution_count": null,
      "metadata": {
        "colab": {
          "background_save": true
        },
        "id": "w8xszRYdJu9i"
      },
      "outputs": [],
      "source": [
        "#Format results into dataframe, ready to be uploaded on gluebenchmark.com\n",
        "df = pd.DataFrame(results)\n",
        "\n",
        "df.to_csv(\"AX.tsv\",sep='\\t', encoding='utf-8')"
      ]
    },
    {
      "cell_type": "code",
      "execution_count": null,
      "metadata": {
        "id": "kQS8NwvrrfAz"
      },
      "outputs": [],
      "source": [
        "#Code to automatically stop the run time for Google Colab\n",
        "import time\n",
        "time.sleep(60)\n",
        "from google.colab import runtime\n",
        "runtime.unassign()"
      ]
    }
  ],
  "metadata": {
    "colab": {
      "provenance": [],
      "authorship_tag": "ABX9TyPXhu/QEI28wYHrVrpHk28f"
    },
    "gpuClass": "standard",
    "kernelspec": {
      "display_name": "Python 3",
      "name": "python3"
    },
    "language_info": {
      "name": "python"
    }
  },
  "nbformat": 4,
  "nbformat_minor": 0
}