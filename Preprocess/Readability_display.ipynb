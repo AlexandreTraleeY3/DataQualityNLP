{
 "cells": [
  {
   "cell_type": "markdown",
   "metadata": {
    "id": "ZPMy0w4jVJHY"
   },
   "source": [
    "# Importing Data"
   ]
  },
  {
   "cell_type": "code",
   "execution_count": 1,
   "metadata": {
    "colab": {
     "base_uri": "https://localhost:8080/"
    },
    "id": "_hi6WxdfT6fw",
    "outputId": "5d27d368-f658-42d6-de8f-7bda91e7ba6f"
   },
   "outputs": [],
   "source": [
    "# from google.colab import drive\n",
    "# drive.mount('/content/gdrive')"
   ]
  },
  {
   "cell_type": "code",
   "execution_count": 2,
   "metadata": {
    "id": "Ki1aDbd93lD0"
   },
   "outputs": [],
   "source": [
    "#Genreic imports\n",
    "import pandas as pd\n",
    "import scipy as scp\n",
    "import numpy as np"
   ]
  },
  {
   "cell_type": "code",
   "execution_count": 3,
   "metadata": {
    "id": "ogahlEvI3BZ6"
   },
   "outputs": [],
   "source": [
    "#Plotting import\n",
    "import seaborn as sns\n",
    "import matplotlib.pyplot as plt"
   ]
  },
  {
   "cell_type": "code",
   "execution_count": 4,
   "metadata": {
    "id": "2MRdq-SRVLPC"
   },
   "outputs": [],
   "source": [
    "#Read data #Set location of the data files in your drive\n",
    "#Different options: 100tbt.csv , 100pbp_r.csv , 100pbp_nr\n",
    "dataframe = pd.read_csv('../results/allpbp_r.csv')"
   ]
  },
  {
   "cell_type": "code",
   "execution_count": 5,
   "metadata": {},
   "outputs": [],
   "source": [
    "dataframe = dataframe[:300]"
   ]
  },
  {
   "cell_type": "code",
   "execution_count": 6,
   "metadata": {
    "colab": {
     "base_uri": "https://localhost:8080/",
     "height": 322
    },
    "id": "K1jD5eCZWnN7",
    "outputId": "268a888a-e515-4167-b997-5a68c6d0ad3a"
   },
   "outputs": [
    {
     "data": {
      "text/html": [
       "<div>\n",
       "<style scoped>\n",
       "    .dataframe tbody tr th:only-of-type {\n",
       "        vertical-align: middle;\n",
       "    }\n",
       "\n",
       "    .dataframe tbody tr th {\n",
       "        vertical-align: top;\n",
       "    }\n",
       "\n",
       "    .dataframe thead th {\n",
       "        text-align: right;\n",
       "    }\n",
       "</style>\n",
       "<table border=\"1\" class=\"dataframe\">\n",
       "  <thead>\n",
       "    <tr style=\"text-align: right;\">\n",
       "      <th></th>\n",
       "      <th>Unnamed: 0</th>\n",
       "      <th>Title</th>\n",
       "      <th>Text</th>\n",
       "      <th>ARI</th>\n",
       "      <th>Gunning Fog Index</th>\n",
       "      <th>Flesch Reading Ease</th>\n",
       "      <th>Flesch Grade Level</th>\n",
       "    </tr>\n",
       "  </thead>\n",
       "  <tbody>\n",
       "    <tr>\n",
       "      <th>0</th>\n",
       "      <td>0</td>\n",
       "      <td>Sir William Schwenck Gilbert___Bab Ballads and...</td>\n",
       "      <td>The Yarn of the Nancy BellThe Bishop and the B...</td>\n",
       "      <td>8.655142</td>\n",
       "      <td>11.249529</td>\n",
       "      <td>74.830049</td>\n",
       "      <td>8.341957</td>\n",
       "    </tr>\n",
       "    <tr>\n",
       "      <th>1</th>\n",
       "      <td>1</td>\n",
       "      <td>William Dean Howells___The Editor's Relations ...</td>\n",
       "      <td>\\nLITERATURE AND LIFE--The Young ContributorOn...</td>\n",
       "      <td>15.819556</td>\n",
       "      <td>18.159257</td>\n",
       "      <td>51.332034</td>\n",
       "      <td>14.564621</td>\n",
       "    </tr>\n",
       "    <tr>\n",
       "      <th>2</th>\n",
       "      <td>2</td>\n",
       "      <td>George Alfred Henty___Bonnie Prince Charlie.txt</td>\n",
       "      <td>\\nBonnie Prince Charlie\\nA Tale of Fontenoy an...</td>\n",
       "      <td>9.586832</td>\n",
       "      <td>12.102394</td>\n",
       "      <td>70.838877</td>\n",
       "      <td>9.157410</td>\n",
       "    </tr>\n",
       "  </tbody>\n",
       "</table>\n",
       "</div>"
      ],
      "text/plain": [
       "   Unnamed: 0                                              Title  \\\n",
       "0           0  Sir William Schwenck Gilbert___Bab Ballads and...   \n",
       "1           1  William Dean Howells___The Editor's Relations ...   \n",
       "2           2    George Alfred Henty___Bonnie Prince Charlie.txt   \n",
       "\n",
       "                                                Text        ARI  \\\n",
       "0  The Yarn of the Nancy BellThe Bishop and the B...   8.655142   \n",
       "1  \\nLITERATURE AND LIFE--The Young ContributorOn...  15.819556   \n",
       "2  \\nBonnie Prince Charlie\\nA Tale of Fontenoy an...   9.586832   \n",
       "\n",
       "   Gunning Fog Index  Flesch Reading Ease  Flesch Grade Level  \n",
       "0          11.249529            74.830049            8.341957  \n",
       "1          18.159257            51.332034           14.564621  \n",
       "2          12.102394            70.838877            9.157410  "
      ]
     },
     "execution_count": 6,
     "metadata": {},
     "output_type": "execute_result"
    }
   ],
   "source": [
    "dataframe.head(3)"
   ]
  },
  {
   "cell_type": "code",
   "execution_count": 7,
   "metadata": {
    "colab": {
     "base_uri": "https://localhost:8080/"
    },
    "id": "5Cg-CYTJsCSi",
    "outputId": "979103d0-4839-4d5a-8cf0-a72880f40b89"
   },
   "outputs": [
    {
     "name": "stdout",
     "output_type": "stream",
     "text": [
      "300\n"
     ]
    }
   ],
   "source": [
    "print(len(dataframe))"
   ]
  },
  {
   "cell_type": "code",
   "execution_count": 8,
   "metadata": {
    "id": "C--5QkIF3Y8H"
   },
   "outputs": [],
   "source": [
    "#Display word distribution\n",
    "# sns.set_style('darkgrid')\n",
    "# plt.figure(figsize=(5,5))\n",
    "# sns.distplot(dataframe['Word'])"
   ]
  },
  {
   "cell_type": "code",
   "execution_count": 9,
   "metadata": {
    "colab": {
     "base_uri": "https://localhost:8080/",
     "height": 459
    },
    "id": "7ltGgZBPnPqu",
    "outputId": "9f61f970-bd34-43a0-c5ef-7986df31edd3"
   },
   "outputs": [
    {
     "name": "stderr",
     "output_type": "stream",
     "text": [
      "/usr/local/lib/python3.9/site-packages/seaborn/distributions.py:2619: FutureWarning: `distplot` is a deprecated function and will be removed in a future version. Please adapt your code to use either `displot` (a figure-level function with similar flexibility) or `histplot` (an axes-level function for histograms).\n",
      "  warnings.warn(msg, FutureWarning)\n"
     ]
    },
    {
     "data": {
      "text/plain": [
       "<AxesSubplot:xlabel='Flesch Reading Ease', ylabel='Density'>"
      ]
     },
     "execution_count": 9,
     "metadata": {},
     "output_type": "execute_result"
    },
    {
     "data": {
      "image/png": "[encoded data removed]",
      "text/plain": [
       "<Figure size 576x432 with 1 Axes>"
      ]
     },
     "metadata": {},
     "output_type": "display_data"
    }
   ],
   "source": [
    "sns.set_style('darkgrid')\n",
    "plt.figure(figsize=(8,6))\n",
    "sns.distplot(dataframe['Flesch Reading Ease'])"
   ]
  },
  {
   "cell_type": "code",
   "execution_count": 27,
   "metadata": {
    "id": "LoAk4hIFqmTk"
   },
   "outputs": [],
   "source": [
    "#Deleting non-sense data (Flesch Reading Ease under 10 and above 100)\n",
    "dataframe = dataframe[dataframe['Flesch Reading Ease'] > 10]\n",
    "dataframe = dataframe[dataframe['Flesch Reading Ease'] < 100]"
   ]
  },
  {
   "cell_type": "code",
   "execution_count": 12,
   "metadata": {
    "colab": {
     "base_uri": "https://localhost:8080/",
     "height": 625
    },
    "id": "8QP-60-41Sju",
    "outputId": "75fdcd80-33c4-47af-a9c3-de36046974cc"
   },
   "outputs": [
    {
     "data": {
      "image/png": "[encoded data removed]",
      "text/plain": [
       "<Figure size 432x288 with 4 Axes>"
      ]
     },
     "metadata": {},
     "output_type": "display_data"
    }
   ],
   "source": [
    "#Fitting all metrics to Gaussian\n",
    "FRE = dataframe['Flesch Reading Ease']\n",
    "meanFRE, varFRE  = scp.stats.distributions.norm.fit(FRE)\n",
    "xFRE = np.linspace(0,100,200)\n",
    "fitted_FRE = scp.stats.distributions.norm.pdf(xFRE, meanFRE, varFRE)\n",
    "\n",
    "ARI = dataframe['ARI']\n",
    "meanARI, varARI  = scp.stats.distributions.norm.fit(ARI)\n",
    "xARI = np.linspace(0,40,200)\n",
    "fitted_ARI = scp.stats.distributions.norm.pdf(xARI, meanARI, varARI)\n",
    "\n",
    "GFI = dataframe['Gunning Fog Index']\n",
    "meanGFI, varGFI  = scp.stats.distributions.norm.fit(GFI)\n",
    "xGFI = np.linspace(0,30,200)\n",
    "fitted_GFI = scp.stats.distributions.norm.pdf(xGFI, meanGFI, varGFI)\n",
    "\n",
    "FGL = dataframe['Flesch Grade Level']\n",
    "meanFGL, varFGL  = scp.stats.distributions.norm.fit(FGL)\n",
    "xFGL = np.linspace(0,30,200)\n",
    "fitted_FGL = scp.stats.distributions.norm.pdf(xFGL, meanFGL, varFGL)\n",
    "\n",
    "#Plotting\n",
    "fig, axs = plt.subplots(2, 2)\n",
    "\n",
    "axs[0, 0].hist(FRE, density =True )\n",
    "axs[0, 0].set_title('Flesch Reading Ease')\n",
    "axs[0, 0].plot(xFRE,fitted_FRE,'r-')\n",
    "axs[0, 0].axvline(meanFRE,color='r',label='Average')\n",
    "axs[0, 0].axvline(meanFRE-varFRE,color='r',label='1st quartile',linestyle='dotted')\n",
    "axs[0, 0].axvline(meanFRE+varFRE,color='r',label='3rd quartile',linestyle='dotted')\n",
    "\n",
    "axs[0, 1].hist(ARI, density =True )\n",
    "axs[0, 1].set_title('ARI')\n",
    "axs[0, 1].plot(xARI,fitted_ARI,'r-')\n",
    "axs[0, 1].axvline(meanARI,color='r',label='Average')\n",
    "axs[0, 1].axvline(meanARI-varARI,color='r',label='1st quartile',linestyle='dotted')\n",
    "axs[0, 1].axvline(meanARI+varARI,color='r',label='3rd quartile',linestyle='dotted')\n",
    "\n",
    "axs[1, 0].hist(GFI, density =True )\n",
    "axs[1, 0].set_title('Gunning Fog Index')\n",
    "axs[1, 0].plot(xGFI,fitted_GFI,'r-')\n",
    "axs[1, 0].axvline(meanGFI,color='r',label='Average')\n",
    "axs[1, 0].axvline(meanGFI-varGFI,color='r',label='1st quartile',linestyle='dotted')\n",
    "axs[1, 0].axvline(meanGFI+varGFI,color='r',label='3rd quartile',linestyle='dotted')\n",
    "\n",
    "axs[1, 1].hist(FGL, density =True )\n",
    "axs[1, 1].set_title('Flesch Grade Level')\n",
    "axs[1, 1].plot(xFGL,fitted_FGL,'r-')\n",
    "axs[1, 1].axvline(meanFGL,color='r',label='Average')\n",
    "axs[1, 1].axvline(meanFGL-varFGL,color='r',label='1st quartile',linestyle='dotted')\n",
    "axs[1, 1].axvline(meanFGL+varFGL,color='r',label='3rd quartile',linestyle='dotted')\n",
    "\n",
    "for ax in axs.flat:\n",
    "    ax.set(xlabel='Scores', ylabel='Density')\n",
    "\n",
    "# set the spacing between subplots\n",
    "plt.subplots_adjust(left=0.1,\n",
    "                    bottom=0.0, \n",
    "                    right=2, \n",
    "                    top=1.8, \n",
    "                    wspace=0.4, \n",
    "                    hspace=0.4)\n",
    "\n",
    "fig.suptitle(\"Readability measures on Gutenberg Dataset\",x=1,y=0.9, ha=\"center\",va=\"center\",fontsize=16)\n",
    "\n",
    "plt.show()"
   ]
  },
  {
   "cell_type": "code",
   "execution_count": 13,
   "metadata": {
    "id": "l0tccLbKud1e"
   },
   "outputs": [],
   "source": [
    " #Copy specific columns from dataframe\n",
    " new = dataframe[['ARI','Gunning Fog Index','Flesch Reading Ease','Flesch Grade Level']].copy()"
   ]
  },
  {
   "cell_type": "code",
   "execution_count": 14,
   "metadata": {
    "colab": {
     "base_uri": "https://localhost:8080/"
    },
    "id": "BurWPHjB0Szo",
    "outputId": "5f5a4450-3dcb-4441-a408-ef9388ac216c"
   },
   "outputs": [
    {
     "name": "stdout",
     "output_type": "stream",
     "text": [
      "ARI                     8.560242\n",
      "Gunning Fog Index      11.709088\n",
      "Flesch Reading Ease    72.568524\n",
      "Flesch Grade Level      8.488143\n",
      "dtype: float64\n"
     ]
    }
   ],
   "source": [
    "print(new.mean())\n",
    "# new.mean().to_csv('100pbp_nr_mean.csv')"
   ]
  },
  {
   "cell_type": "code",
   "execution_count": 15,
   "metadata": {
    "colab": {
     "base_uri": "https://localhost:8080/"
    },
    "id": "ho7R9kWHz3WW",
    "outputId": "df91cdb5-5353-4bfd-c015-ede03d2b9673"
   },
   "outputs": [
    {
     "name": "stdout",
     "output_type": "stream",
     "text": [
      "ARI                     4.794345\n",
      "Gunning Fog Index       3.850544\n",
      "Flesch Reading Ease    14.297337\n",
      "Flesch Grade Level      3.856510\n",
      "dtype: float64\n"
     ]
    }
   ],
   "source": [
    "print(new.std())\n",
    "# new.std().to_csv('100pbp_nr_std.csv')"
   ]
  },
  {
   "cell_type": "code",
   "execution_count": 16,
   "metadata": {
    "colab": {
     "base_uri": "https://localhost:8080/"
    },
    "id": "QEg9rHFc0cgn",
    "outputId": "3bf1eadd-fe9d-4e9b-d3db-092a74728c1d"
   },
   "outputs": [
    {
     "name": "stdout",
     "output_type": "stream",
     "text": [
      "Unnamed: 0             149.500000\n",
      "ARI                      7.756096\n",
      "Gunning Fog Index       10.966507\n",
      "Flesch Reading Ease     75.726072\n",
      "Flesch Grade Level       7.798918\n",
      "Name: 0.5, dtype: float64\n"
     ]
    }
   ],
   "source": [
    "print(dataframe.quantile())"
   ]
  },
  {
   "cell_type": "code",
   "execution_count": 17,
   "metadata": {
    "colab": {
     "base_uri": "https://localhost:8080/"
    },
    "id": "q20XqrbZ1E6N",
    "outputId": "78ee3dd0-7bf3-4f48-b4b1-69fd030153bd"
   },
   "outputs": [
    {
     "name": "stdout",
     "output_type": "stream",
     "text": [
      "Unnamed: 0             74.750000\n",
      "ARI                     4.952523\n",
      "Gunning Fog Index       8.807202\n",
      "Flesch Reading Ease    64.608666\n",
      "Flesch Grade Level      5.601792\n",
      "Name: 0.25, dtype: float64\n"
     ]
    }
   ],
   "source": [
    "print(dataframe.quantile(0.25))"
   ]
  },
  {
   "cell_type": "code",
   "execution_count": 18,
   "metadata": {
    "colab": {
     "base_uri": "https://localhost:8080/"
    },
    "id": "V6BDN0AH1ZVP",
    "outputId": "7d45b123-ddd7-49da-d5f4-725ec277cbc5"
   },
   "outputs": [
    {
     "name": "stdout",
     "output_type": "stream",
     "text": [
      "Unnamed: 0             224.250000\n",
      "ARI                     11.150253\n",
      "Gunning Fog Index       13.376496\n",
      "Flesch Reading Ease     82.664776\n",
      "Flesch Grade Level      10.272849\n",
      "Name: 0.75, dtype: float64\n"
     ]
    }
   ],
   "source": [
    "print(dataframe.quantile(0.75))"
   ]
  },
  {
   "cell_type": "markdown",
   "metadata": {},
   "source": [
    "Sort the data by their score to split equally"
   ]
  },
  {
   "cell_type": "code",
   "execution_count": 22,
   "metadata": {},
   "outputs": [],
   "source": [
    "sorted_df = dataframe.sort_values(by=['Flesch Reading Ease'])"
   ]
  },
  {
   "cell_type": "code",
   "execution_count": 23,
   "metadata": {},
   "outputs": [],
   "source": [
    "slice1 = sorted_df[:100]\n",
    "slice2 = sorted_df[100:200]\n",
    "slice3 = sorted_df[200:]"
   ]
  },
  {
   "cell_type": "code",
   "execution_count": 24,
   "metadata": {},
   "outputs": [
    {
     "data": {
      "text/html": [
       "<div>\n",
       "<style scoped>\n",
       "    .dataframe tbody tr th:only-of-type {\n",
       "        vertical-align: middle;\n",
       "    }\n",
       "\n",
       "    .dataframe tbody tr th {\n",
       "        vertical-align: top;\n",
       "    }\n",
       "\n",
       "    .dataframe thead th {\n",
       "        text-align: right;\n",
       "    }\n",
       "</style>\n",
       "<table border=\"1\" class=\"dataframe\">\n",
       "  <thead>\n",
       "    <tr style=\"text-align: right;\">\n",
       "      <th></th>\n",
       "      <th>Unnamed: 0</th>\n",
       "      <th>Title</th>\n",
       "      <th>Text</th>\n",
       "      <th>ARI</th>\n",
       "      <th>Gunning Fog Index</th>\n",
       "      <th>Flesch Reading Ease</th>\n",
       "      <th>Flesch Grade Level</th>\n",
       "    </tr>\n",
       "  </thead>\n",
       "  <tbody>\n",
       "    <tr>\n",
       "      <th>18</th>\n",
       "      <td>18</td>\n",
       "      <td>George Washington___State of the Union Address...</td>\n",
       "      <td>\\nState of the Union Address\\nGeorge Washingto...</td>\n",
       "      <td>20.090390</td>\n",
       "      <td>21.825656</td>\n",
       "      <td>25.958997</td>\n",
       "      <td>18.608137</td>\n",
       "    </tr>\n",
       "    <tr>\n",
       "      <th>30</th>\n",
       "      <td>30</td>\n",
       "      <td>Henry James___A Small Boy and Others.txt</td>\n",
       "      <td>\\n\\n[Illustration: Henry James and his Father\\...</td>\n",
       "      <td>24.968588</td>\n",
       "      <td>24.931312</td>\n",
       "      <td>27.772812</td>\n",
       "      <td>21.506747</td>\n",
       "    </tr>\n",
       "    <tr>\n",
       "      <th>142</th>\n",
       "      <td>142</td>\n",
       "      <td>James Russell Lowell___Abraham Lincoln.txt</td>\n",
       "      <td>\\nAbraham Lincoln\\nby James Russell LowellTHER...</td>\n",
       "      <td>20.980265</td>\n",
       "      <td>22.152980</td>\n",
       "      <td>31.920450</td>\n",
       "      <td>18.654775</td>\n",
       "    </tr>\n",
       "    <tr>\n",
       "      <th>225</th>\n",
       "      <td>225</td>\n",
       "      <td>Thomas Henry Huxley___The Interpreters of Gene...</td>\n",
       "      <td>Our fabulist warns those who in quarrels inter...</td>\n",
       "      <td>20.653046</td>\n",
       "      <td>22.563055</td>\n",
       "      <td>33.270518</td>\n",
       "      <td>18.721247</td>\n",
       "    </tr>\n",
       "    <tr>\n",
       "      <th>289</th>\n",
       "      <td>289</td>\n",
       "      <td>Herbert George Wells___Anticipations.txt</td>\n",
       "      <td>It is proposed in this book to present in as o...</td>\n",
       "      <td>19.231887</td>\n",
       "      <td>21.122470</td>\n",
       "      <td>33.344674</td>\n",
       "      <td>17.623120</td>\n",
       "    </tr>\n",
       "    <tr>\n",
       "      <th>...</th>\n",
       "      <td>...</td>\n",
       "      <td>...</td>\n",
       "      <td>...</td>\n",
       "      <td>...</td>\n",
       "      <td>...</td>\n",
       "      <td>...</td>\n",
       "      <td>...</td>\n",
       "    </tr>\n",
       "    <tr>\n",
       "      <th>246</th>\n",
       "      <td>246</td>\n",
       "      <td>William Henry Hudson___A Crystal Age.txt</td>\n",
       "      <td>I do not quite know how it happened, my recoll...</td>\n",
       "      <td>10.748696</td>\n",
       "      <td>13.626409</td>\n",
       "      <td>68.617526</td>\n",
       "      <td>10.129890</td>\n",
       "    </tr>\n",
       "    <tr>\n",
       "      <th>187</th>\n",
       "      <td>187</td>\n",
       "      <td>R M Ballantyne___Martin Rattler.txt</td>\n",
       "      <td>Martin Rattler was a very bad boy. At least hi...</td>\n",
       "      <td>9.805547</td>\n",
       "      <td>12.559424</td>\n",
       "      <td>69.126336</td>\n",
       "      <td>9.473022</td>\n",
       "    </tr>\n",
       "    <tr>\n",
       "      <th>226</th>\n",
       "      <td>226</td>\n",
       "      <td>John Dryden___The Poetical Works of John Dryde...</td>\n",
       "      <td>With Life, Critical Dissertation, and\\n Expla...</td>\n",
       "      <td>14.432074</td>\n",
       "      <td>15.179531</td>\n",
       "      <td>69.319685</td>\n",
       "      <td>11.715781</td>\n",
       "    </tr>\n",
       "    <tr>\n",
       "      <th>211</th>\n",
       "      <td>211</td>\n",
       "      <td>Robert Louis Stevenson___The Sea Fogs.txt</td>\n",
       "      <td>With an Introduction by Thomas Rutherford Baco...</td>\n",
       "      <td>9.725079</td>\n",
       "      <td>11.738089</td>\n",
       "      <td>69.619667</td>\n",
       "      <td>9.430530</td>\n",
       "    </tr>\n",
       "    <tr>\n",
       "      <th>78</th>\n",
       "      <td>78</td>\n",
       "      <td>Elizabeth Barrett Browning___The Poetical Work...</td>\n",
       "      <td>\\n The Poetical Works\\n of\\n Elizabeth Barrett...</td>\n",
       "      <td>12.151967</td>\n",
       "      <td>13.133536</td>\n",
       "      <td>69.662281</td>\n",
       "      <td>10.253868</td>\n",
       "    </tr>\n",
       "  </tbody>\n",
       "</table>\n",
       "<p>100 rows × 7 columns</p>\n",
       "</div>"
      ],
      "text/plain": [
       "     Unnamed: 0                                              Title  \\\n",
       "18           18  George Washington___State of the Union Address...   \n",
       "30           30           Henry James___A Small Boy and Others.txt   \n",
       "142         142         James Russell Lowell___Abraham Lincoln.txt   \n",
       "225         225  Thomas Henry Huxley___The Interpreters of Gene...   \n",
       "289         289           Herbert George Wells___Anticipations.txt   \n",
       "..          ...                                                ...   \n",
       "246         246           William Henry Hudson___A Crystal Age.txt   \n",
       "187         187                R M Ballantyne___Martin Rattler.txt   \n",
       "226         226  John Dryden___The Poetical Works of John Dryde...   \n",
       "211         211          Robert Louis Stevenson___The Sea Fogs.txt   \n",
       "78           78  Elizabeth Barrett Browning___The Poetical Work...   \n",
       "\n",
       "                                                  Text        ARI  \\\n",
       "18   \\nState of the Union Address\\nGeorge Washingto...  20.090390   \n",
       "30   \\n\\n[Illustration: Henry James and his Father\\...  24.968588   \n",
       "142  \\nAbraham Lincoln\\nby James Russell LowellTHER...  20.980265   \n",
       "225  Our fabulist warns those who in quarrels inter...  20.653046   \n",
       "289  It is proposed in this book to present in as o...  19.231887   \n",
       "..                                                 ...        ...   \n",
       "246  I do not quite know how it happened, my recoll...  10.748696   \n",
       "187  Martin Rattler was a very bad boy. At least hi...   9.805547   \n",
       "226   With Life, Critical Dissertation, and\\n Expla...  14.432074   \n",
       "211  With an Introduction by Thomas Rutherford Baco...   9.725079   \n",
       "78   \\n The Poetical Works\\n of\\n Elizabeth Barrett...  12.151967   \n",
       "\n",
       "     Gunning Fog Index  Flesch Reading Ease  Flesch Grade Level  \n",
       "18           21.825656            25.958997           18.608137  \n",
       "30           24.931312            27.772812           21.506747  \n",
       "142          22.152980            31.920450           18.654775  \n",
       "225          22.563055            33.270518           18.721247  \n",
       "289          21.122470            33.344674           17.623120  \n",
       "..                 ...                  ...                 ...  \n",
       "246          13.626409            68.617526           10.129890  \n",
       "187          12.559424            69.126336            9.473022  \n",
       "226          15.179531            69.319685           11.715781  \n",
       "211          11.738089            69.619667            9.430530  \n",
       "78           13.133536            69.662281           10.253868  \n",
       "\n",
       "[100 rows x 7 columns]"
      ]
     },
     "execution_count": 24,
     "metadata": {},
     "output_type": "execute_result"
    }
   ],
   "source": [
    "slice1"
   ]
  },
  {
   "cell_type": "code",
   "execution_count": 25,
   "metadata": {},
   "outputs": [
    {
     "data": {
      "text/html": [
       "<div>\n",
       "<style scoped>\n",
       "    .dataframe tbody tr th:only-of-type {\n",
       "        vertical-align: middle;\n",
       "    }\n",
       "\n",
       "    .dataframe tbody tr th {\n",
       "        vertical-align: top;\n",
       "    }\n",
       "\n",
       "    .dataframe thead th {\n",
       "        text-align: right;\n",
       "    }\n",
       "</style>\n",
       "<table border=\"1\" class=\"dataframe\">\n",
       "  <thead>\n",
       "    <tr style=\"text-align: right;\">\n",
       "      <th></th>\n",
       "      <th>Unnamed: 0</th>\n",
       "      <th>Title</th>\n",
       "      <th>Text</th>\n",
       "      <th>ARI</th>\n",
       "      <th>Gunning Fog Index</th>\n",
       "      <th>Flesch Reading Ease</th>\n",
       "      <th>Flesch Grade Level</th>\n",
       "    </tr>\n",
       "  </thead>\n",
       "  <tbody>\n",
       "    <tr>\n",
       "      <th>35</th>\n",
       "      <td>35</td>\n",
       "      <td>Ralph Waldo Emerson___Poems.txt</td>\n",
       "      <td>In Mr. Cabot's prefatory note to the Riverside...</td>\n",
       "      <td>12.613985</td>\n",
       "      <td>13.288604</td>\n",
       "      <td>69.670412</td>\n",
       "      <td>10.739170</td>\n",
       "    </tr>\n",
       "    <tr>\n",
       "      <th>69</th>\n",
       "      <td>69</td>\n",
       "      <td>Benjamin Disraeli___Tancred.txt</td>\n",
       "      <td>IN THAT part of the celebrated parish of St. G...</td>\n",
       "      <td>8.135352</td>\n",
       "      <td>11.163291</td>\n",
       "      <td>69.946683</td>\n",
       "      <td>8.458774</td>\n",
       "    </tr>\n",
       "    <tr>\n",
       "      <th>144</th>\n",
       "      <td>144</td>\n",
       "      <td>Lewis Carroll___The Hunting of the Snark.txt</td>\n",
       "      <td>THE HUNTING OF THE SNARK\\n an Agony in Eight ...</td>\n",
       "      <td>11.147216</td>\n",
       "      <td>13.248797</td>\n",
       "      <td>69.977403</td>\n",
       "      <td>10.103239</td>\n",
       "    </tr>\n",
       "    <tr>\n",
       "      <th>255</th>\n",
       "      <td>255</td>\n",
       "      <td>Bret Harte___Susy, A Story of the Plains.txt</td>\n",
       "      <td>Where the San Leandro turnpike stretches its d...</td>\n",
       "      <td>7.970831</td>\n",
       "      <td>11.368328</td>\n",
       "      <td>70.161779</td>\n",
       "      <td>8.049219</td>\n",
       "    </tr>\n",
       "    <tr>\n",
       "      <th>272</th>\n",
       "      <td>272</td>\n",
       "      <td>R M Ballantyne___The Walrus Hunters.txt</td>\n",
       "      <td>\\nThe Walrus Hunters, by R.M. Ballantyne (1825...</td>\n",
       "      <td>9.386368</td>\n",
       "      <td>12.559725</td>\n",
       "      <td>70.162477</td>\n",
       "      <td>9.255099</td>\n",
       "    </tr>\n",
       "    <tr>\n",
       "      <th>...</th>\n",
       "      <td>...</td>\n",
       "      <td>...</td>\n",
       "      <td>...</td>\n",
       "      <td>...</td>\n",
       "      <td>...</td>\n",
       "      <td>...</td>\n",
       "      <td>...</td>\n",
       "    </tr>\n",
       "    <tr>\n",
       "      <th>135</th>\n",
       "      <td>135</td>\n",
       "      <td>Herbert George Wells___The Research Magnificen...</td>\n",
       "      <td>The story of William Porphyry Benham is the st...</td>\n",
       "      <td>4.998103</td>\n",
       "      <td>9.129124</td>\n",
       "      <td>79.397171</td>\n",
       "      <td>5.806594</td>\n",
       "    </tr>\n",
       "    <tr>\n",
       "      <th>9</th>\n",
       "      <td>9</td>\n",
       "      <td>Charles Kingsley___Phaethon.txt</td>\n",
       "      <td>Templeton and I were lounging by the clear lim...</td>\n",
       "      <td>5.906061</td>\n",
       "      <td>10.160022</td>\n",
       "      <td>79.404662</td>\n",
       "      <td>6.662036</td>\n",
       "    </tr>\n",
       "    <tr>\n",
       "      <th>88</th>\n",
       "      <td>88</td>\n",
       "      <td>Wilkie Collins___The Law and the Lady.txt</td>\n",
       "      <td>IN offering this book to you, I have no Prefac...</td>\n",
       "      <td>4.202080</td>\n",
       "      <td>8.860088</td>\n",
       "      <td>79.469472</td>\n",
       "      <td>5.552717</td>\n",
       "    </tr>\n",
       "    <tr>\n",
       "      <th>279</th>\n",
       "      <td>279</td>\n",
       "      <td>Charlotte Bronte___Jane Eyre.txt</td>\n",
       "      <td>A preface to the first edition of Jane Eyre be...</td>\n",
       "      <td>5.996528</td>\n",
       "      <td>9.978050</td>\n",
       "      <td>79.587452</td>\n",
       "      <td>6.561185</td>\n",
       "    </tr>\n",
       "    <tr>\n",
       "      <th>204</th>\n",
       "      <td>204</td>\n",
       "      <td>Henry Rider Haggard___The Virgin of the Sun.txt</td>\n",
       "      <td>First Published in 1922.Some five-and-thirty y...</td>\n",
       "      <td>7.746575</td>\n",
       "      <td>10.583962</td>\n",
       "      <td>79.626365</td>\n",
       "      <td>7.643834</td>\n",
       "    </tr>\n",
       "  </tbody>\n",
       "</table>\n",
       "<p>100 rows × 7 columns</p>\n",
       "</div>"
      ],
      "text/plain": [
       "     Unnamed: 0                                              Title  \\\n",
       "35           35                    Ralph Waldo Emerson___Poems.txt   \n",
       "69           69                    Benjamin Disraeli___Tancred.txt   \n",
       "144         144       Lewis Carroll___The Hunting of the Snark.txt   \n",
       "255         255       Bret Harte___Susy, A Story of the Plains.txt   \n",
       "272         272            R M Ballantyne___The Walrus Hunters.txt   \n",
       "..          ...                                                ...   \n",
       "135         135  Herbert George Wells___The Research Magnificen...   \n",
       "9             9                    Charles Kingsley___Phaethon.txt   \n",
       "88           88          Wilkie Collins___The Law and the Lady.txt   \n",
       "279         279                   Charlotte Bronte___Jane Eyre.txt   \n",
       "204         204    Henry Rider Haggard___The Virgin of the Sun.txt   \n",
       "\n",
       "                                                  Text        ARI  \\\n",
       "35   In Mr. Cabot's prefatory note to the Riverside...  12.613985   \n",
       "69   IN THAT part of the celebrated parish of St. G...   8.135352   \n",
       "144   THE HUNTING OF THE SNARK\\n an Agony in Eight ...  11.147216   \n",
       "255  Where the San Leandro turnpike stretches its d...   7.970831   \n",
       "272  \\nThe Walrus Hunters, by R.M. Ballantyne (1825...   9.386368   \n",
       "..                                                 ...        ...   \n",
       "135  The story of William Porphyry Benham is the st...   4.998103   \n",
       "9    Templeton and I were lounging by the clear lim...   5.906061   \n",
       "88   IN offering this book to you, I have no Prefac...   4.202080   \n",
       "279  A preface to the first edition of Jane Eyre be...   5.996528   \n",
       "204  First Published in 1922.Some five-and-thirty y...   7.746575   \n",
       "\n",
       "     Gunning Fog Index  Flesch Reading Ease  Flesch Grade Level  \n",
       "35           13.288604            69.670412           10.739170  \n",
       "69           11.163291            69.946683            8.458774  \n",
       "144          13.248797            69.977403           10.103239  \n",
       "255          11.368328            70.161779            8.049219  \n",
       "272          12.559725            70.162477            9.255099  \n",
       "..                 ...                  ...                 ...  \n",
       "135           9.129124            79.397171            5.806594  \n",
       "9            10.160022            79.404662            6.662036  \n",
       "88            8.860088            79.469472            5.552717  \n",
       "279           9.978050            79.587452            6.561185  \n",
       "204          10.583962            79.626365            7.643834  \n",
       "\n",
       "[100 rows x 7 columns]"
      ]
     },
     "execution_count": 25,
     "metadata": {},
     "output_type": "execute_result"
    }
   ],
   "source": [
    "slice2"
   ]
  },
  {
   "cell_type": "code",
   "execution_count": 26,
   "metadata": {},
   "outputs": [
    {
     "data": {
      "text/html": [
       "<div>\n",
       "<style scoped>\n",
       "    .dataframe tbody tr th:only-of-type {\n",
       "        vertical-align: middle;\n",
       "    }\n",
       "\n",
       "    .dataframe tbody tr th {\n",
       "        vertical-align: top;\n",
       "    }\n",
       "\n",
       "    .dataframe thead th {\n",
       "        text-align: right;\n",
       "    }\n",
       "</style>\n",
       "<table border=\"1\" class=\"dataframe\">\n",
       "  <thead>\n",
       "    <tr style=\"text-align: right;\">\n",
       "      <th></th>\n",
       "      <th>Unnamed: 0</th>\n",
       "      <th>Title</th>\n",
       "      <th>Text</th>\n",
       "      <th>ARI</th>\n",
       "      <th>Gunning Fog Index</th>\n",
       "      <th>Flesch Reading Ease</th>\n",
       "      <th>Flesch Grade Level</th>\n",
       "    </tr>\n",
       "  </thead>\n",
       "  <tbody>\n",
       "    <tr>\n",
       "      <th>137</th>\n",
       "      <td>137</td>\n",
       "      <td>George Alfred Henty___Facing Death.txt</td>\n",
       "      <td>Author of With Clive in India; In Freedom's C...</td>\n",
       "      <td>7.328376</td>\n",
       "      <td>10.715400</td>\n",
       "      <td>79.980434</td>\n",
       "      <td>7.328574</td>\n",
       "    </tr>\n",
       "    <tr>\n",
       "      <th>290</th>\n",
       "      <td>290</td>\n",
       "      <td>Henry James___The Bostonians, Volume 1.txt</td>\n",
       "      <td>Olive will come down in about ten minutes; she...</td>\n",
       "      <td>5.918674</td>\n",
       "      <td>10.144306</td>\n",
       "      <td>80.121028</td>\n",
       "      <td>6.417304</td>\n",
       "    </tr>\n",
       "    <tr>\n",
       "      <th>221</th>\n",
       "      <td>221</td>\n",
       "      <td>William Dean Howells___A Pair of Patient Lover...</td>\n",
       "      <td>Author of The Landlord at Lion's Head Ragged L...</td>\n",
       "      <td>6.930755</td>\n",
       "      <td>11.107570</td>\n",
       "      <td>80.168237</td>\n",
       "      <td>7.234397</td>\n",
       "    </tr>\n",
       "    <tr>\n",
       "      <th>159</th>\n",
       "      <td>159</td>\n",
       "      <td>Edward Phillips Oppenheim___The Yellow Crayon.txt</td>\n",
       "      <td>It was late summer-time, and the perfume of fl...</td>\n",
       "      <td>3.296791</td>\n",
       "      <td>7.637402</td>\n",
       "      <td>80.176995</td>\n",
       "      <td>4.608069</td>\n",
       "    </tr>\n",
       "    <tr>\n",
       "      <th>286</th>\n",
       "      <td>286</td>\n",
       "      <td>Jack London___The Scarlet Plague.txt</td>\n",
       "      <td>THE way led along upon what had once been the ...</td>\n",
       "      <td>5.236085</td>\n",
       "      <td>8.665887</td>\n",
       "      <td>80.357664</td>\n",
       "      <td>5.737384</td>\n",
       "    </tr>\n",
       "    <tr>\n",
       "      <th>...</th>\n",
       "      <td>...</td>\n",
       "      <td>...</td>\n",
       "      <td>...</td>\n",
       "      <td>...</td>\n",
       "      <td>...</td>\n",
       "      <td>...</td>\n",
       "      <td>...</td>\n",
       "    </tr>\n",
       "    <tr>\n",
       "      <th>6</th>\n",
       "      <td>6</td>\n",
       "      <td>William Wymark Jacobs___Keeping Watch, Night W...</td>\n",
       "      <td>Human natur'! said the night-watchman, gazing ...</td>\n",
       "      <td>1.700927</td>\n",
       "      <td>6.583856</td>\n",
       "      <td>98.283280</td>\n",
       "      <td>2.968975</td>\n",
       "    </tr>\n",
       "    <tr>\n",
       "      <th>13</th>\n",
       "      <td>13</td>\n",
       "      <td>William Somerset Maugham___Liza of Lambeth.txt</td>\n",
       "      <td>Published by the Penguin Group\\n\\n First publ...</td>\n",
       "      <td>1.509158</td>\n",
       "      <td>6.819155</td>\n",
       "      <td>98.760395</td>\n",
       "      <td>2.811115</td>\n",
       "    </tr>\n",
       "    <tr>\n",
       "      <th>117</th>\n",
       "      <td>117</td>\n",
       "      <td>George Bernard Shaw___O'Flaherty V. C.txt</td>\n",
       "      <td>It may surprise some people to learn that in 1...</td>\n",
       "      <td>0.479531</td>\n",
       "      <td>6.370902</td>\n",
       "      <td>99.945913</td>\n",
       "      <td>2.227807</td>\n",
       "    </tr>\n",
       "    <tr>\n",
       "      <th>239</th>\n",
       "      <td>239</td>\n",
       "      <td>John Galsworthy___The First and The Last.txt</td>\n",
       "      <td>\\n\\nA Drama In Three Scenes\\n\\nFrom Six Short ...</td>\n",
       "      <td>-0.701841</td>\n",
       "      <td>3.555495</td>\n",
       "      <td>102.255428</td>\n",
       "      <td>0.564100</td>\n",
       "    </tr>\n",
       "    <tr>\n",
       "      <th>121</th>\n",
       "      <td>121</td>\n",
       "      <td>John Galsworthy___Hall-Marked and Others.txt</td>\n",
       "      <td>The scene is the sitting-room and verandah of...</td>\n",
       "      <td>-0.862082</td>\n",
       "      <td>4.057536</td>\n",
       "      <td>105.190736</td>\n",
       "      <td>0.359472</td>\n",
       "    </tr>\n",
       "  </tbody>\n",
       "</table>\n",
       "<p>100 rows × 7 columns</p>\n",
       "</div>"
      ],
      "text/plain": [
       "     Unnamed: 0                                              Title  \\\n",
       "137         137             George Alfred Henty___Facing Death.txt   \n",
       "290         290         Henry James___The Bostonians, Volume 1.txt   \n",
       "221         221  William Dean Howells___A Pair of Patient Lover...   \n",
       "159         159  Edward Phillips Oppenheim___The Yellow Crayon.txt   \n",
       "286         286               Jack London___The Scarlet Plague.txt   \n",
       "..          ...                                                ...   \n",
       "6             6  William Wymark Jacobs___Keeping Watch, Night W...   \n",
       "13           13     William Somerset Maugham___Liza of Lambeth.txt   \n",
       "117         117          George Bernard Shaw___O'Flaherty V. C.txt   \n",
       "239         239       John Galsworthy___The First and The Last.txt   \n",
       "121         121       John Galsworthy___Hall-Marked and Others.txt   \n",
       "\n",
       "                                                  Text       ARI  \\\n",
       "137   Author of With Clive in India; In Freedom's C...  7.328376   \n",
       "290  Olive will come down in about ten minutes; she...  5.918674   \n",
       "221  Author of The Landlord at Lion's Head Ragged L...  6.930755   \n",
       "159  It was late summer-time, and the perfume of fl...  3.296791   \n",
       "286  THE way led along upon what had once been the ...  5.236085   \n",
       "..                                                 ...       ...   \n",
       "6    Human natur'! said the night-watchman, gazing ...  1.700927   \n",
       "13    Published by the Penguin Group\\n\\n First publ...  1.509158   \n",
       "117  It may surprise some people to learn that in 1...  0.479531   \n",
       "239  \\n\\nA Drama In Three Scenes\\n\\nFrom Six Short ... -0.701841   \n",
       "121   The scene is the sitting-room and verandah of... -0.862082   \n",
       "\n",
       "     Gunning Fog Index  Flesch Reading Ease  Flesch Grade Level  \n",
       "137          10.715400            79.980434            7.328574  \n",
       "290          10.144306            80.121028            6.417304  \n",
       "221          11.107570            80.168237            7.234397  \n",
       "159           7.637402            80.176995            4.608069  \n",
       "286           8.665887            80.357664            5.737384  \n",
       "..                 ...                  ...                 ...  \n",
       "6             6.583856            98.283280            2.968975  \n",
       "13            6.819155            98.760395            2.811115  \n",
       "117           6.370902            99.945913            2.227807  \n",
       "239           3.555495           102.255428            0.564100  \n",
       "121           4.057536           105.190736            0.359472  \n",
       "\n",
       "[100 rows x 7 columns]"
      ]
     },
     "execution_count": 26,
     "metadata": {},
     "output_type": "execute_result"
    }
   ],
   "source": [
    "slice3"
   ]
  }
 ],
 "metadata": {
  "colab": {
   "collapsed_sections": [],
   "name": "data-analysis.ipynb",
   "provenance": []
  },
  "kernelspec": {
   "display_name": "Python 3 (ipykernel)",
   "language": "python",
   "name": "python3"
  },
  "language_info": {
   "codemirror_mode": {
    "name": "ipython",
    "version": 3
   },
   "file_extension": ".py",
   "mimetype": "text/x-python",
   "name": "python",
   "nbconvert_exporter": "python",
   "pygments_lexer": "ipython3",
   "version": "3.9.10"
  }
 },
 "nbformat": 4,
 "nbformat_minor": 1
}
